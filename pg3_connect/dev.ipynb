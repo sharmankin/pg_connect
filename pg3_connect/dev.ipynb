{
 "cells": [
  {
   "cell_type": "code",
   "execution_count": 1,
   "id": "initial_id",
   "metadata": {
    "collapsed": true,
    "ExecuteTime": {
     "end_time": "2023-07-27T16:04:57.060689800Z",
     "start_time": "2023-07-27T16:04:55.802699200Z"
    }
   },
   "outputs": [
    {
     "name": "stdout",
     "output_type": "stream",
     "text": [
      "('AX', 'ALA', '248', None, {'en': 'Aland Islands', 'ru': 'Аландские острова'}, {'en': 'Åland Islands', 'ru': 'Аландские острова'}, None, None, {'official': None, 'communication': 'en'}, 'Aland Islands', None)\n"
     ]
    }
   ],
   "source": [
    "from pg3.connections import connect\n",
    "\n",
    "with connect() as conn, conn.cursor() as cur:\n",
    "    cur.execute(\n",
    "        \"\"\"\n",
    "        select * from common.country\n",
    "        \"\"\"\n",
    "    )\n",
    "    print(\n",
    "        cur.fetchone()\n",
    "    )\n"
   ]
  }
 ],
 "metadata": {
  "kernelspec": {
   "display_name": "Python 3",
   "language": "python",
   "name": "python3"
  },
  "language_info": {
   "codemirror_mode": {
    "name": "ipython",
    "version": 2
   },
   "file_extension": ".py",
   "mimetype": "text/x-python",
   "name": "python",
   "nbconvert_exporter": "python",
   "pygments_lexer": "ipython2",
   "version": "2.7.6"
  }
 },
 "nbformat": 4,
 "nbformat_minor": 5
}
